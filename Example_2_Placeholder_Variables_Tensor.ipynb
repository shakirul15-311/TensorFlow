{
 "cells": [
  {
   "cell_type": "code",
   "execution_count": 22,
   "metadata": {},
   "outputs": [],
   "source": [
    "import tensorflow as tf"
   ]
  },
  {
   "cell_type": "markdown",
   "metadata": {},
   "source": [
    "## Variables"
   ]
  },
  {
   "cell_type": "code",
   "execution_count": 23,
   "metadata": {},
   "outputs": [
    {
     "name": "stdout",
     "output_type": "stream",
     "text": [
      "10\n"
     ]
    }
   ],
   "source": [
    "x = 1\n",
    "y = x + 9\n",
    "print (y)"
   ]
  },
  {
   "cell_type": "code",
   "execution_count": 24,
   "metadata": {},
   "outputs": [],
   "source": [
    "x = tf.Variable(3)\n",
    "y = tf.Variable(4)\n",
    "#z=3\n",
    "f = x*x*y + y + 2"
   ]
  },
  {
   "cell_type": "code",
   "execution_count": 25,
   "metadata": {},
   "outputs": [
    {
     "name": "stdout",
     "output_type": "stream",
     "text": [
      "42\n"
     ]
    }
   ],
   "source": [
    "sess = tf.Session()\n",
    "sess.run(x.initializer)\n",
    "sess.run(y.initializer)\n",
    "result = sess.run(f)\n",
    "print(result)"
   ]
  },
  {
   "cell_type": "markdown",
   "metadata": {},
   "source": [
    "## Defining multidemensional array"
   ]
  },
  {
   "cell_type": "code",
   "execution_count": 26,
   "metadata": {},
   "outputs": [],
   "source": [
    "scaler = tf.constant([2])\n",
    "vector = tf.constant([3,4,5])\n",
    "matrix = tf.constant([[1,2,3],[3,4,6],[9,5,2]])\n",
    "tensor = tf.constant([[[1,2,3],[3,4,6],[9,5,2]],[[1,4,6],[6,4,0],[3,5,2]],[[0,2,5],[3,3,6],[2,5,1]]])"
   ]
  },
  {
   "cell_type": "code",
   "execution_count": 27,
   "metadata": {},
   "outputs": [
    {
     "name": "stdout",
     "output_type": "stream",
     "text": [
      "Scaler:\n",
      " [2]\n",
      "Vector:\n",
      " [3 4 5]\n"
     ]
    }
   ],
   "source": [
    "with tf.Session() as session:\n",
    "    result=session.run(scaler)\n",
    "    print('Scaler:\\n',result)\n",
    "    \n",
    "    result=session.run(vector)\n",
    "    print('Vector:\\n',result)"
   ]
  },
  {
   "cell_type": "code",
   "execution_count": 29,
   "metadata": {},
   "outputs": [
    {
     "name": "stdout",
     "output_type": "stream",
     "text": [
      "Matrix:\n",
      " [[1 2 3]\n",
      " [3 4 6]\n",
      " [9 5 2]]\n"
     ]
    }
   ],
   "source": [
    "with tf.Session() as session:    \n",
    "    result=session.run(matrix)\n",
    "    print('Matrix:\\n',result)"
   ]
  },
  {
   "cell_type": "code",
   "execution_count": 33,
   "metadata": {},
   "outputs": [
    {
     "name": "stdout",
     "output_type": "stream",
     "text": [
      "Tensor:\n",
      " [[[1 2 3]\n",
      "  [3 4 6]\n",
      "  [9 5 2]]\n",
      "\n",
      " [[1 4 6]\n",
      "  [6 4 0]\n",
      "  [3 5 2]]\n",
      "\n",
      " [[0 2 5]\n",
      "  [3 3 6]\n",
      "  [2 5 1]]]\n"
     ]
    }
   ],
   "source": [
    "with tf.Session() as session:    \n",
    "    tensor=session.run(tensor)\n",
    "    print('Tensor:\\n',tensor)"
   ]
  },
  {
   "cell_type": "code",
   "execution_count": 37,
   "metadata": {},
   "outputs": [
    {
     "name": "stdout",
     "output_type": "stream",
     "text": [
      "[2 5 1]\n"
     ]
    }
   ],
   "source": [
    "print(tensor[2][2])"
   ]
  },
  {
   "cell_type": "markdown",
   "metadata": {},
   "source": []
  },
  {
   "cell_type": "markdown",
   "metadata": {},
   "source": [
    "## Numpy "
   ]
  },
  {
   "cell_type": "code",
   "execution_count": 21,
   "metadata": {},
   "outputs": [
    {
     "name": "stdout",
     "output_type": "stream",
     "text": [
      "[1 2 3]\n"
     ]
    }
   ],
   "source": [
    "import numpy as np\n",
    "tensor_2d = np.array([(1, 2, 3, 4), (5, 6, 7, 8), (9, 10, 11, 12)])\n",
    "print (tensor_2d[0][:3])"
   ]
  },
  {
   "cell_type": "markdown",
   "metadata": {},
   "source": [
    "#  Placeholder"
   ]
  },
  {
   "cell_type": "code",
   "execution_count": 9,
   "metadata": {},
   "outputs": [],
   "source": [
    "a=tf.placeholder(tf.float32)"
   ]
  },
  {
   "cell_type": "code",
   "execution_count": 10,
   "metadata": {},
   "outputs": [],
   "source": [
    "b=a*2"
   ]
  },
  {
   "cell_type": "code",
   "execution_count": 11,
   "metadata": {},
   "outputs": [
    {
     "name": "stdout",
     "output_type": "stream",
     "text": [
      "7.0\n"
     ]
    }
   ],
   "source": [
    "with tf.Session() as session:\n",
    "    result=session.run(b, feed_dict={a:3.5})\n",
    "    print(result)"
   ]
  },
  {
   "cell_type": "markdown",
   "metadata": {},
   "source": [
    "### Placeholder pass the data with feed_dict argument"
   ]
  },
  {
   "cell_type": "code",
   "execution_count": 12,
   "metadata": {},
   "outputs": [],
   "source": [
    "dictionary = {a: [[1,2,3],[3,4,6],[9,5,2]]}"
   ]
  },
  {
   "cell_type": "code",
   "execution_count": 13,
   "metadata": {},
   "outputs": [
    {
     "name": "stdout",
     "output_type": "stream",
     "text": [
      "[[ 2.  4.  6.]\n",
      " [ 6.  8. 12.]\n",
      " [18. 10.  4.]]\n"
     ]
    }
   ],
   "source": [
    "with tf.Session() as session:\n",
    "    result=session.run(b, feed_dict=dictionary)\n",
    "    print(result)"
   ]
  },
  {
   "cell_type": "code",
   "execution_count": null,
   "metadata": {},
   "outputs": [],
   "source": []
  }
 ],
 "metadata": {
  "kernelspec": {
   "display_name": "Python 3",
   "language": "python",
   "name": "python3"
  },
  "language_info": {
   "codemirror_mode": {
    "name": "ipython",
    "version": 3
   },
   "file_extension": ".py",
   "mimetype": "text/x-python",
   "name": "python",
   "nbconvert_exporter": "python",
   "pygments_lexer": "ipython3",
   "version": "3.6.4"
  }
 },
 "nbformat": 4,
 "nbformat_minor": 2
}

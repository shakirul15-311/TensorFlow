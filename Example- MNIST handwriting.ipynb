{
 "cells": [
  {
   "cell_type": "code",
   "execution_count": 72,
   "metadata": {},
   "outputs": [],
   "source": [
    "import tensorflow as tf"
   ]
  },
  {
   "cell_type": "code",
   "execution_count": 73,
   "metadata": {},
   "outputs": [],
   "source": [
    "import  os\n",
    "os.environ['TF_CPP_MIN_LOG_LEVEL'] = '2'\n",
    "import tensorflow as tf\n",
    "import numpy as np\n",
    "from tensorflow.examples.tutorials.mnist import input_data"
   ]
  },
  {
   "cell_type": "code",
   "execution_count": 74,
   "metadata": {},
   "outputs": [
    {
     "name": "stdout",
     "output_type": "stream",
     "text": [
      "Extracting MNIST_data/train-images-idx3-ubyte.gz\n",
      "Extracting MNIST_data/train-labels-idx1-ubyte.gz\n",
      "Extracting MNIST_data/t10k-images-idx3-ubyte.gz\n",
      "Extracting MNIST_data/t10k-labels-idx1-ubyte.gz\n"
     ]
    }
   ],
   "source": [
    "mnist_images = input_data.read_data_sets(\"MNIST_data/\", one_hot=True)\n",
    "# training for 100 mnist images\n",
    "train_pixels , train_list_values = mnist_images.train.next_batch(1000)\n",
    "\n",
    "# test algorithm for 10 images\n",
    "test_pixels, test_list_values = mnist_images.train.next_batch(30)\n",
    "\n",
    "# define tensors for test, train\n",
    "train_pixel_tensor = tf.placeholder(\"float\", [None, 784])\n",
    "test_pixel_tensor = tf.placeholder(\"float\", [784])"
   ]
  },
  {
   "cell_type": "code",
   "execution_count": 75,
   "metadata": {},
   "outputs": [
    {
     "name": "stdout",
     "output_type": "stream",
     "text": [
      "list of values loaded  [[0. 0. 0. 0. 0. 0. 0. 0. 1. 0.]\n",
      " [0. 0. 0. 0. 0. 0. 1. 0. 0. 0.]\n",
      " [0. 0. 0. 1. 0. 0. 0. 0. 0. 0.]\n",
      " [0. 0. 1. 0. 0. 0. 0. 0. 0. 0.]\n",
      " [0. 0. 0. 0. 1. 0. 0. 0. 0. 0.]\n",
      " [0. 1. 0. 0. 0. 0. 0. 0. 0. 0.]\n",
      " [0. 1. 0. 0. 0. 0. 0. 0. 0. 0.]\n",
      " [0. 0. 0. 0. 0. 0. 0. 0. 1. 0.]\n",
      " [0. 0. 0. 0. 0. 0. 0. 1. 0. 0.]\n",
      " [0. 0. 0. 0. 0. 0. 1. 0. 0. 0.]]\n"
     ]
    }
   ],
   "source": [
    "# list of values loaded\n",
    "pixels, real_values = mnist_images.train.next_batch(10)\n",
    "print (\"list of values loaded \", real_values)"
   ]
  },
  {
   "cell_type": "code",
   "execution_count": 76,
   "metadata": {},
   "outputs": [
    {
     "name": "stdout",
     "output_type": "stream",
     "text": [
      "element N 3 of the list plotted\n"
     ]
    },
    {
     "data": {
      "image/png": "[encoded data removed]",
      "text/plain": [
       "<matplotlib.figure.Figure at 0x27eabeaae48>"
      ]
     },
     "metadata": {
      "needs_background": "light"
     },
     "output_type": "display_data"
    }
   ],
   "source": [
    "import matplotlib.pyplot as plt\n",
    "example_to_visualize = 2\n",
    "print (\"element N \" + str(example_to_visualize + 1) + \" of the list plotted\")\n",
    "\n",
    "image = pixels[example_to_visualize, :]\n",
    "image = np.reshape(image, [28, 28])\n",
    "plt.imshow(image)\n",
    "plt.show()"
   ]
  },
  {
   "cell_type": "code",
   "execution_count": 77,
   "metadata": {},
   "outputs": [],
   "source": [
    "# cost function\n",
    "distance = tf.reduce_sum(tf.abs(tf.add(train_pixel_tensor, tf.negative(test_pixel_tensor))), reduction_indices=1)\n",
    "# minimize distance\n",
    "prediction = tf.arg_min(distance, 0)\n",
    "# testing algorithm evaluation\n",
    "accuracy = 0\n",
    "init = tf.global_variables_initializer()"
   ]
  },
  {
   "cell_type": "code",
   "execution_count": 78,
   "metadata": {},
   "outputs": [
    {
     "name": "stdout",
     "output_type": "stream",
     "text": [
      "Test N  0 Predicted Class:  9 True Class:  9\n",
      "Test N  1 Predicted Class:  9 True Class:  9\n",
      "Test N  2 Predicted Class:  5 True Class:  8\n",
      "Test N  3 Predicted Class:  3 True Class:  9\n",
      "Test N  4 Predicted Class:  1 True Class:  1\n",
      "Test N  5 Predicted Class:  8 True Class:  8\n",
      "Test N  6 Predicted Class:  5 True Class:  5\n",
      "Test N  7 Predicted Class:  4 True Class:  4\n",
      "Test N  8 Predicted Class:  3 True Class:  3\n",
      "Test N  9 Predicted Class:  1 True Class:  1\n",
      "Test N  10 Predicted Class:  0 True Class:  0\n",
      "Test N  11 Predicted Class:  3 True Class:  3\n",
      "Test N  12 Predicted Class:  3 True Class:  8\n",
      "Test N  13 Predicted Class:  5 True Class:  5\n",
      "Test N  14 Predicted Class:  3 True Class:  3\n",
      "Test N  15 Predicted Class:  6 True Class:  6\n",
      "Test N  16 Predicted Class:  3 True Class:  3\n",
      "Test N  17 Predicted Class:  7 True Class:  7\n",
      "Test N  18 Predicted Class:  7 True Class:  7\n",
      "Test N  19 Predicted Class:  3 True Class:  3\n",
      "Test N  20 Predicted Class:  5 True Class:  3\n",
      "Test N  21 Predicted Class:  6 True Class:  6\n",
      "Test N  22 Predicted Class:  7 True Class:  7\n",
      "Test N  23 Predicted Class:  7 True Class:  7\n",
      "Test N  24 Predicted Class:  0 True Class:  0\n",
      "Test N  25 Predicted Class:  6 True Class:  0\n",
      "Test N  26 Predicted Class:  9 True Class:  9\n",
      "Test N  27 Predicted Class:  5 True Class:  8\n",
      "Test N  28 Predicted Class:  1 True Class:  1\n",
      "Test N  29 Predicted Class:  3 True Class:  3\n",
      "Result =  0.7999999999999999\n"
     ]
    }
   ],
   "source": [
    "# start simulation\n",
    "with tf.Session() as session:\n",
    "    session.run(init)\n",
    "    for i in range(len(test_list_values)):\n",
    "        nearest_neighbour_index = session.run(prediction,\n",
    "                                            feed_dict={\n",
    "                                                train_pixel_tensor: train_pixels,\n",
    "                                                test_pixel_tensor: test_pixels[i, :]\n",
    "                                            })\n",
    "\n",
    "        print (\"Test N \", i, \"Predicted Class: \", np.argmax(train_list_values[nearest_neighbour_index]), \"True Class: \", np.argmax(test_list_values[i]))\n",
    "        if np.argmax(train_list_values[nearest_neighbour_index]) == np.argmax(test_list_values[i]):\n",
    "            accuracy += 1. / len(test_pixels)\n",
    "\n",
    "print (\"Result = \", accuracy)"
   ]
  },
  {
   "cell_type": "code",
   "execution_count": null,
   "metadata": {},
   "outputs": [],
   "source": []
  }
 ],
 "metadata": {
  "kernelspec": {
   "display_name": "Python 3",
   "language": "python",
   "name": "python3"
  },
  "language_info": {
   "codemirror_mode": {
    "name": "ipython",
    "version": 3
   },
   "file_extension": ".py",
   "mimetype": "text/x-python",
   "name": "python",
   "nbconvert_exporter": "python",
   "pygments_lexer": "ipython3",
   "version": "3.6.4"
  }
 },
 "nbformat": 4,
 "nbformat_minor": 2
}

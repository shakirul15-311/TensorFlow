{
 "cells": [
  {
   "cell_type": "markdown",
   "metadata": {},
   "source": [
    "# Image classification problem using cnn on \n",
    "## MNIST dataset"
   ]
  },
  {
   "cell_type": "code",
   "execution_count": 2,
   "metadata": {},
   "outputs": [
    {
     "name": "stdout",
     "output_type": "stream",
     "text": [
      "Extracting MNIST_data/train-images-idx3-ubyte.gz\n",
      "Extracting MNIST_data/train-labels-idx1-ubyte.gz\n",
      "Extracting MNIST_data/t10k-images-idx3-ubyte.gz\n",
      "Extracting MNIST_data/t10k-labels-idx1-ubyte.gz\n"
     ]
    }
   ],
   "source": [
    "# image classification problem using cnn\n",
    "import tensorflow as tf\n",
    "from tensorflow.examples.tutorials.mnist import input_data\n",
    "mnist = input_data.read_data_sets(\"MNIST_data/\", one_hot=True)"
   ]
  },
  {
   "cell_type": "code",
   "execution_count": 3,
   "metadata": {},
   "outputs": [],
   "source": [
    "# define cnn parameters\n",
    "learning_rate = 0.001\n",
    "training_iterations = 150000\n",
    "batch_size = 128\n",
    "display_step = 10"
   ]
  },
  {
   "cell_type": "code",
   "execution_count": 4,
   "metadata": {},
   "outputs": [],
   "source": [
    "# each shape is 28 * 28 array of pixels\n",
    "n_input = 784\n",
    "# total classes for classifier\n",
    "n_classes = 10\n",
    "# dropout technique solving over fitting issues drop out units (hidden , input and output) in a neural network random\n",
    "dropout = 0.75"
   ]
  },
  {
   "cell_type": "code",
   "execution_count": 5,
   "metadata": {},
   "outputs": [],
   "source": [
    "# placeholder for the graph\n",
    "x = tf.placeholder(tf.float32, [None, n_input])\n",
    "# change the form of 4D input image to tensor\n",
    "_X = tf.reshape(x, shape=[-1, 28, 28, 1])"
   ]
  },
  {
   "cell_type": "code",
   "execution_count": 6,
   "metadata": {},
   "outputs": [
    {
     "name": "stdout",
     "output_type": "stream",
     "text": [
      "WARNING:tensorflow:From C:\\Users\\shaki\\Anaconda3\\lib\\site-packages\\tensorflow\\python\\framework\\op_def_library.py:263: colocate_with (from tensorflow.python.framework.ops) is deprecated and will be removed in a future version.\n",
      "Instructions for updating:\n",
      "Colocations handled automatically by placer.\n"
     ]
    }
   ],
   "source": [
    "# output foreach digit\n",
    "y = tf.placeholder(tf.float32, [None, n_classes])\n",
    "\n",
    "# first layer init weights and bias\n",
    "wc1 = tf.Variable(tf.random_normal([5, 5, 1, 32]))\n",
    "bc1 = tf.Variable(tf.random_normal([32]))"
   ]
  },
  {
   "cell_type": "code",
   "execution_count": 7,
   "metadata": {},
   "outputs": [],
   "source": [
    "# 2 Layers\n",
    "def conv2d(img , weight, bias):\n",
    "    return tf.nn.relu(tf.nn.bias_add(\n",
    "                tf.nn.conv2d(img, weight,\n",
    "                             strides=[1, 1, 1, 1],\n",
    "                             padding='SAME'), bias))\n",
    "\n",
    "\n",
    "def max_pool(img , k):\n",
    "    return tf.nn.max_pool(img,\n",
    "                          ksize=[1, k, k, 1],\n",
    "                          strides=[1, k, k, 1],\n",
    "                          padding='SAME')"
   ]
  },
  {
   "cell_type": "code",
   "execution_count": 8,
   "metadata": {},
   "outputs": [
    {
     "name": "stdout",
     "output_type": "stream",
     "text": [
      "WARNING:tensorflow:From <ipython-input-8-a9c1ed20982a>:8: calling dropout (from tensorflow.python.ops.nn_ops) with keep_prob is deprecated and will be removed in a future version.\n",
      "Instructions for updating:\n",
      "Please use `rate` instead of `keep_prob`. Rate should be set to `rate = 1 - keep_prob`.\n"
     ]
    }
   ],
   "source": [
    "# convolution layer\n",
    "conv1 = conv2d(_X, wc1, bc1)\n",
    "conv1 = max_pool(conv1, k=2)\n",
    "\n",
    "\n",
    "# reduce over fitting using dropout\n",
    "keep_prob = tf.placeholder(tf.float32)\n",
    "conv1 = tf.nn.dropout(conv1, keep_prob)\n"
   ]
  },
  {
   "cell_type": "code",
   "execution_count": 9,
   "metadata": {},
   "outputs": [],
   "source": [
    "# second layer\n",
    "wc2 = tf.Variable(tf.random_normal([5, 5, 32, 64]))\n",
    "bc2 = tf.Variable(tf.random_normal([64]))\n",
    "\n",
    "conv2 = conv2d(conv1, wc2, bc2)\n",
    "conv2 = max_pool(conv2, k=2)\n",
    "conv2 = tf.nn.dropout(conv2, keep_prob)"
   ]
  },
  {
   "cell_type": "code",
   "execution_count": 11,
   "metadata": {},
   "outputs": [],
   "source": [
    "# densely connected layer\n",
    "wd1 = tf.Variable(tf.random_normal([ 7*7*64, 1024]))\n",
    "bd1 = tf.Variable(tf.random_normal([1024]))\n",
    "\n",
    "dense1 = tf.reshape(conv2, [-1, wd1.get_shape().as_list()[0]])\n",
    "dense1 = tf.nn.relu(tf.add(tf.matmul(dense1, wd1), bd1))\n",
    "dense1 = tf.nn.dropout(dense1, keep_prob)\n",
    "\n",
    "\n",
    "# readout layer\n",
    "wout = tf.Variable(tf.random_normal([1024, n_classes]))\n",
    "bout = tf.Variable(tf.random_normal([n_classes]))"
   ]
  },
  {
   "cell_type": "code",
   "execution_count": 13,
   "metadata": {},
   "outputs": [],
   "source": [
    "# predicition\n",
    "pred = tf.add(tf.matmul(dense1, wout), bout)\n",
    "# training and testing model\n",
    "# cost function using softmax with crosss entropy\n",
    "\n",
    "cost = tf.reduce_mean(tf.nn.softmax_cross_entropy_with_logits(logits=pred, labels=y))\n",
    "# optimize function for cost .\n",
    "optimizer = tf.train.AdamOptimizer(learning_rate=learning_rate).minimize(cost)\n",
    "# model evaluation\n",
    "correct_pred = tf.equal(tf.argmax(pred, 1), tf.argmax(y, 1))\n",
    "accuracy = tf.reduce_mean(tf.cast(correct_pred, tf.float32))\n"
   ]
  },
  {
   "cell_type": "code",
   "execution_count": 14,
   "metadata": {},
   "outputs": [
    {
     "name": "stdout",
     "output_type": "stream",
     "text": [
      "Iter 1280, Minibatch Loss= 21266.890625, Training Accuracy= 0.32812\n",
      "Iter 2560, Minibatch Loss= 12188.378906, Training Accuracy= 0.45312\n",
      "Iter 3840, Minibatch Loss= 10212.470703, Training Accuracy= 0.52344\n",
      "Iter 5120, Minibatch Loss= 8018.602051, Training Accuracy= 0.64844\n",
      "Iter 6400, Minibatch Loss= 5663.015137, Training Accuracy= 0.70312\n",
      "Iter 7680, Minibatch Loss= 6501.530762, Training Accuracy= 0.67188\n",
      "Iter 8960, Minibatch Loss= 4249.436523, Training Accuracy= 0.73438\n",
      "Iter 10240, Minibatch Loss= 2929.196289, Training Accuracy= 0.78125\n",
      "Iter 11520, Minibatch Loss= 2727.930664, Training Accuracy= 0.78906\n",
      "Iter 12800, Minibatch Loss= 2504.774658, Training Accuracy= 0.80469\n",
      "Iter 14080, Minibatch Loss= 3044.786377, Training Accuracy= 0.79688\n",
      "Iter 15360, Minibatch Loss= 4838.988770, Training Accuracy= 0.73438\n",
      "Iter 16640, Minibatch Loss= 4260.635742, Training Accuracy= 0.75000\n",
      "Iter 17920, Minibatch Loss= 2053.603760, Training Accuracy= 0.83594\n",
      "Iter 19200, Minibatch Loss= 2753.665771, Training Accuracy= 0.81250\n",
      "Iter 20480, Minibatch Loss= 3753.585938, Training Accuracy= 0.81250\n",
      "Iter 21760, Minibatch Loss= 1653.698486, Training Accuracy= 0.87500\n",
      "Iter 23040, Minibatch Loss= 1846.830322, Training Accuracy= 0.85156\n",
      "Iter 24320, Minibatch Loss= 2041.907959, Training Accuracy= 0.84375\n",
      "Iter 25600, Minibatch Loss= 2168.349854, Training Accuracy= 0.87500\n",
      "Iter 26880, Minibatch Loss= 1486.859863, Training Accuracy= 0.88281\n",
      "Iter 28160, Minibatch Loss= 1199.050903, Training Accuracy= 0.92969\n",
      "Iter 29440, Minibatch Loss= 1674.448975, Training Accuracy= 0.89844\n",
      "Iter 30720, Minibatch Loss= 2051.958740, Training Accuracy= 0.85938\n",
      "Iter 32000, Minibatch Loss= 1018.060303, Training Accuracy= 0.92188\n",
      "Iter 33280, Minibatch Loss= 1602.847534, Training Accuracy= 0.87500\n",
      "Iter 34560, Minibatch Loss= 1922.426880, Training Accuracy= 0.89062\n",
      "Iter 35840, Minibatch Loss= 1466.345215, Training Accuracy= 0.89062\n",
      "Iter 37120, Minibatch Loss= 1573.068848, Training Accuracy= 0.85938\n",
      "Iter 38400, Minibatch Loss= 1551.384521, Training Accuracy= 0.88281\n",
      "Iter 39680, Minibatch Loss= 1238.476562, Training Accuracy= 0.89844\n",
      "Iter 40960, Minibatch Loss= 707.503174, Training Accuracy= 0.93750\n",
      "Iter 42240, Minibatch Loss= 1175.627930, Training Accuracy= 0.86719\n",
      "Iter 43520, Minibatch Loss= 1296.798218, Training Accuracy= 0.88281\n",
      "Iter 44800, Minibatch Loss= 1770.337280, Training Accuracy= 0.89844\n",
      "Iter 46080, Minibatch Loss= 597.628845, Training Accuracy= 0.87500\n",
      "Iter 47360, Minibatch Loss= 1441.345825, Training Accuracy= 0.88281\n",
      "Iter 48640, Minibatch Loss= 493.730591, Training Accuracy= 0.92969\n",
      "Iter 49920, Minibatch Loss= 773.752014, Training Accuracy= 0.92188\n",
      "Iter 51200, Minibatch Loss= 290.764618, Training Accuracy= 0.96094\n",
      "Iter 52480, Minibatch Loss= 763.995361, Training Accuracy= 0.91406\n",
      "Iter 53760, Minibatch Loss= 904.897705, Training Accuracy= 0.88281\n",
      "Iter 55040, Minibatch Loss= 1361.317871, Training Accuracy= 0.92188\n",
      "Iter 56320, Minibatch Loss= 1386.522705, Training Accuracy= 0.87500\n",
      "Iter 57600, Minibatch Loss= 546.764709, Training Accuracy= 0.94531\n",
      "Iter 58880, Minibatch Loss= 437.863098, Training Accuracy= 0.94531\n",
      "Iter 60160, Minibatch Loss= 1291.514160, Training Accuracy= 0.87500\n",
      "Iter 61440, Minibatch Loss= 1373.357056, Training Accuracy= 0.91406\n",
      "Iter 62720, Minibatch Loss= 708.121765, Training Accuracy= 0.94531\n",
      "Iter 64000, Minibatch Loss= 661.909668, Training Accuracy= 0.93750\n",
      "Iter 65280, Minibatch Loss= 788.332642, Training Accuracy= 0.91406\n",
      "Iter 66560, Minibatch Loss= 718.279358, Training Accuracy= 0.94531\n",
      "Iter 67840, Minibatch Loss= 521.334839, Training Accuracy= 0.92969\n",
      "Iter 69120, Minibatch Loss= 570.077759, Training Accuracy= 0.95312\n",
      "Iter 70400, Minibatch Loss= 273.670471, Training Accuracy= 0.92969\n",
      "Iter 71680, Minibatch Loss= 818.871338, Training Accuracy= 0.91406\n",
      "Iter 72960, Minibatch Loss= 1150.029541, Training Accuracy= 0.88281\n",
      "Iter 74240, Minibatch Loss= 181.549622, Training Accuracy= 0.96094\n",
      "Iter 75520, Minibatch Loss= 672.580688, Training Accuracy= 0.92969\n",
      "Iter 76800, Minibatch Loss= 672.025330, Training Accuracy= 0.92969\n",
      "Iter 78080, Minibatch Loss= 659.099609, Training Accuracy= 0.94531\n",
      "Iter 79360, Minibatch Loss= 658.940552, Training Accuracy= 0.92969\n",
      "Iter 80640, Minibatch Loss= 531.934814, Training Accuracy= 0.92969\n",
      "Iter 81920, Minibatch Loss= 596.611755, Training Accuracy= 0.92969\n",
      "Iter 83200, Minibatch Loss= 1191.925049, Training Accuracy= 0.86719\n",
      "Iter 84480, Minibatch Loss= 529.849243, Training Accuracy= 0.92188\n",
      "Iter 85760, Minibatch Loss= 659.914246, Training Accuracy= 0.92969\n",
      "Iter 87040, Minibatch Loss= 926.419861, Training Accuracy= 0.86719\n",
      "Iter 88320, Minibatch Loss= 814.958984, Training Accuracy= 0.93750\n",
      "Iter 89600, Minibatch Loss= 532.607971, Training Accuracy= 0.92969\n",
      "Iter 90880, Minibatch Loss= 215.942169, Training Accuracy= 0.95312\n",
      "Iter 92160, Minibatch Loss= 548.379456, Training Accuracy= 0.93750\n",
      "Iter 93440, Minibatch Loss= 611.918945, Training Accuracy= 0.93750\n",
      "Iter 94720, Minibatch Loss= 296.502106, Training Accuracy= 0.96094\n",
      "Iter 96000, Minibatch Loss= 279.482605, Training Accuracy= 0.95312\n",
      "Iter 97280, Minibatch Loss= 387.124878, Training Accuracy= 0.90625\n",
      "Iter 98560, Minibatch Loss= 428.066620, Training Accuracy= 0.94531\n",
      "Iter 99840, Minibatch Loss= 780.266174, Training Accuracy= 0.92969\n",
      "Iter 101120, Minibatch Loss= 769.994995, Training Accuracy= 0.89844\n",
      "Iter 102400, Minibatch Loss= 384.124969, Training Accuracy= 0.92188\n",
      "Iter 103680, Minibatch Loss= 208.555115, Training Accuracy= 0.95312\n",
      "Iter 104960, Minibatch Loss= 513.629272, Training Accuracy= 0.92969\n",
      "Iter 106240, Minibatch Loss= 658.066528, Training Accuracy= 0.89062\n",
      "Iter 107520, Minibatch Loss= 241.960999, Training Accuracy= 0.96094\n",
      "Iter 108800, Minibatch Loss= 228.742966, Training Accuracy= 0.96094\n",
      "Iter 110080, Minibatch Loss= 500.285034, Training Accuracy= 0.93750\n",
      "Iter 111360, Minibatch Loss= 237.607361, Training Accuracy= 0.96094\n",
      "Iter 112640, Minibatch Loss= 337.190979, Training Accuracy= 0.93750\n",
      "Iter 113920, Minibatch Loss= 185.314362, Training Accuracy= 0.96094\n",
      "Iter 115200, Minibatch Loss= 178.108917, Training Accuracy= 0.93750\n",
      "Iter 116480, Minibatch Loss= 428.072449, Training Accuracy= 0.95312\n",
      "Iter 117760, Minibatch Loss= 254.059753, Training Accuracy= 0.92188\n",
      "Iter 119040, Minibatch Loss= 103.470062, Training Accuracy= 0.97656\n",
      "Iter 120320, Minibatch Loss= 424.206970, Training Accuracy= 0.92969\n",
      "Iter 121600, Minibatch Loss= 472.319580, Training Accuracy= 0.93750\n",
      "Iter 122880, Minibatch Loss= 228.286377, Training Accuracy= 0.90625\n",
      "Iter 124160, Minibatch Loss= 443.834473, Training Accuracy= 0.94531\n",
      "Iter 125440, Minibatch Loss= 507.856659, Training Accuracy= 0.92969\n",
      "Iter 126720, Minibatch Loss= 499.242523, Training Accuracy= 0.91406\n",
      "Iter 128000, Minibatch Loss= 390.084961, Training Accuracy= 0.91406\n",
      "Iter 129280, Minibatch Loss= 522.975342, Training Accuracy= 0.92188\n",
      "Iter 130560, Minibatch Loss= 199.581238, Training Accuracy= 0.94531\n",
      "Iter 131840, Minibatch Loss= 273.362732, Training Accuracy= 0.96094\n",
      "Iter 133120, Minibatch Loss= 458.871582, Training Accuracy= 0.92969\n",
      "Iter 134400, Minibatch Loss= 365.234406, Training Accuracy= 0.96094\n",
      "Iter 135680, Minibatch Loss= 236.130005, Training Accuracy= 0.94531\n",
      "Iter 136960, Minibatch Loss= 116.422806, Training Accuracy= 0.96875\n",
      "Iter 138240, Minibatch Loss= 248.427322, Training Accuracy= 0.96094\n",
      "Iter 139520, Minibatch Loss= 176.290314, Training Accuracy= 0.95312\n",
      "Iter 140800, Minibatch Loss= 244.608612, Training Accuracy= 0.95312\n",
      "Iter 142080, Minibatch Loss= 262.593842, Training Accuracy= 0.94531\n",
      "Iter 143360, Minibatch Loss= 292.483612, Training Accuracy= 0.95312\n",
      "Iter 144640, Minibatch Loss= 306.535217, Training Accuracy= 0.92188\n",
      "Iter 145920, Minibatch Loss= 325.517639, Training Accuracy= 0.94531\n",
      "Iter 147200, Minibatch Loss= 293.464539, Training Accuracy= 0.96094\n",
      "Iter 148480, Minibatch Loss= 384.468506, Training Accuracy= 0.91406\n",
      "Iter 149760, Minibatch Loss= 255.575851, Training Accuracy= 0.92969\n",
      "Optimization Finished!\n",
      "Testing Accuracy: 0.96875\n"
     ]
    }
   ],
   "source": [
    "# launching sessions\n",
    "init = tf.global_variables_initializer()\n",
    "# evaluate graph\n",
    "with tf.Session() as sess:\n",
    "    sess.run(init)\n",
    "    step=1\n",
    "\n",
    "    while step * batch_size < training_iterations:\n",
    "        batch_xs, batch_ys = mnist.train.next_batch(batch_size)\n",
    "        sess.run(optimizer,\n",
    "                        feed_dict={\n",
    "                                    x: batch_xs,\n",
    "                                    y: batch_ys,\n",
    "                                    keep_prob: dropout\n",
    "                                  }\n",
    "                 )\n",
    "\n",
    "        if step % display_step == 0:\n",
    "            # calc accuracy\n",
    "            acc = sess.run(accuracy,\n",
    "                            feed_dict={\n",
    "\n",
    "                                        x: batch_xs,\n",
    "                                        y: batch_ys,\n",
    "                                        keep_prob:1\n",
    "\n",
    "                                        }\n",
    "                           )\n",
    "\n",
    "            loss = sess.run(cost, feed_dict={x: batch_xs, y: batch_ys, keep_prob: 1.})\n",
    "            print (\"Iter \" + str(step*batch_size) + \", Minibatch Loss= \" + \"{:.6f}\".format(loss) + \", Training Accuracy= \" + \"{:.5f}\".format(acc))\n",
    "        step += 1\n",
    "    print (\"Optimization Finished!\")\n",
    "    # Calculate accuracy for 256 mnist test images\n",
    "    print (\"Testing Accuracy:\", sess.run(accuracy, feed_dict={x: mnist.test.images[:256], y: mnist.test.labels[:256], keep_prob: 1.}))"
   ]
  },
  {
   "cell_type": "code",
   "execution_count": null,
   "metadata": {},
   "outputs": [],
   "source": []
  }
 ],
 "metadata": {
  "kernelspec": {
   "display_name": "Python 3",
   "language": "python",
   "name": "python3"
  },
  "language_info": {
   "codemirror_mode": {
    "name": "ipython",
    "version": 3
   },
   "file_extension": ".py",
   "mimetype": "text/x-python",
   "name": "python",
   "nbconvert_exporter": "python",
   "pygments_lexer": "ipython3",
   "version": "3.6.4"
  }
 },
 "nbformat": 4,
 "nbformat_minor": 2
}
